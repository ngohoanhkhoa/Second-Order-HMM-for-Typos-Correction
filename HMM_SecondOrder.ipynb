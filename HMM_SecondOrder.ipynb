{
 "cells": [
  {
   "cell_type": "code",
   "execution_count": 1,
   "metadata": {
    "collapsed": false
   },
   "outputs": [],
   "source": [
    "import nltk\n",
    "from numpy import array, ones, zeros, multiply\n",
    "import numpy as np\n",
    "import sys\n",
    "import operator\n",
    "import math\n",
    "from numpy import unravel_index\n",
    "\n",
    "\n",
    "\n",
    "UNK = \"<unk>\"  # token to map all out-of-vocabulary words (OOVs)\n",
    "UNKid = 0      # index for UNK\n",
    "epsilon=1e-100\n",
    "\n",
    "class HMM:\n",
    "        def __init__(self, state_list, observation_list,\n",
    "                 transition_proba = None,\n",
    "                 observation_proba = None,\n",
    "                 initial_state_proba = None, \n",
    "                 smoothing_obs = 0.01, \n",
    "                 transition_proba1= None,\n",
    "                 prob_abs= 0.00001):\n",
    "            \"\"\"\n",
    "            Builds a Hidden Markov Model\n",
    "            * state_list is the list of state symbols [q_0...q_(N-1)]\n",
    "            * observation_list is the list of observation symbols [v_0...v_(M-1)]\n",
    "            * transition_proba is the transition probability matrix\n",
    "                [a_ij] a_ij,a_ik = Pr(Y_(t+1)=q_i|Y_t=q_j,Y_(t-1)=q_k)\n",
    "            * observation_proba is the observation probablility matrix\n",
    "                [b_ki] b_ki = Pr(X_t=v_k|Y_t=q_i)\n",
    "            * initial_state_proba is the initial state distribution\n",
    "                [pi_i] pi_i = Pr(Y_0=q_i)\"\"\"\n",
    "            print \"HMM creating with: \"\n",
    "            self.N = len(state_list)       # number of states\n",
    "            self.M = len(observation_list) # number of possible emissions\n",
    "            self.prob_abs = prob_abs\n",
    "            print str(self.N)+\" states\"\n",
    "            print str(self.M)+\" observations\"\n",
    "            self.omega_Y = state_list\n",
    "            self.omega_X = observation_list\n",
    "            if transition_proba1 is None:\n",
    "                self.transition_proba1 = zeros( (self.N, self.N), float) \n",
    "            else:\n",
    "                self.transition_proba1=transition_proba1\n",
    "            if transition_proba is None:\n",
    "                self.transition_proba = zeros( (self.N, self.N, self.N), float) \n",
    "            else:\n",
    "                self.transition_proba=transition_proba\n",
    "            if observation_proba is None:\n",
    "                self.observation_proba = zeros( (self.M, self.N), float) \n",
    "            else:\n",
    "                self.observation_proba=observation_proba\n",
    "            if initial_state_proba is None:\n",
    "                self.initial_state_proba = zeros( (self.N,), float ) \n",
    "            else:\n",
    "                self.initial_state_proba=initial_state_proba\n",
    "            self.make_indexes() # build indexes, i.e the mapping between token and int\n",
    "            self.smoothing_obs = smoothing_obs \n",
    "            \n",
    "        def make_indexes(self):\n",
    "            \"\"\"Creates the reverse table that maps states/observations names\n",
    "            to their index in the probabilities array\"\"\"\n",
    "            self.Y_index = {}\n",
    "            for i in range(self.N):\n",
    "                self.Y_index[self.omega_Y[i]] = i\n",
    "            self.X_index = {}\n",
    "            for i in range(self.M):\n",
    "                self.X_index[self.omega_X[i]] = i\n",
    "      \n",
    "        def get_observationIndices( self, observations ):\n",
    "            \"\"\"return observation indices, i.e \n",
    "            return [self.O_index[o] for o in observations]\n",
    "            and deals with OOVs\n",
    "            \"\"\"\n",
    "            indices = zeros( len(observations), int )\n",
    "            k = 0\n",
    "            for o in observations:\n",
    "                if o in self.X_index:\n",
    "                    indices[k] = self.X_index[o]\n",
    "                else:\n",
    "                    indices[k] = UNKid\n",
    "                k += 1\n",
    "            return indices\n",
    "\n",
    "    \n",
    "        def data2indices(self, sent): \n",
    "            \"\"\"From one tagged sentence of the brown corpus: \n",
    "            - extract the words and tags \n",
    "            - returns two list of indices, one for each\n",
    "            -> (wordids, tagids)\n",
    "            \"\"\"\n",
    "            wordids = list()\n",
    "            tagids  = list()\n",
    "            for couple in sent:\n",
    "                wrd = couple[0]\n",
    "                tag = couple[1]\n",
    "                if wrd in self.X_index:\n",
    "                    wordids.append(self.X_index[wrd])\n",
    "                else:\n",
    "                    wordids.append(UNKid)\n",
    "                tagids.append(self.Y_index[tag])\n",
    "            return wordids,tagids\n",
    "            \n",
    "        def observation_estimation(self, pair_counts):\n",
    "            \"\"\" Build the observation distribution: \n",
    "                observation_proba is the observation probablility matrix\n",
    "                    [b_ki],  b_ki = Pr(X_t=v_k|Y_t=q_i)\"\"\"\n",
    "            # fill with counts\n",
    "            for pair in pair_counts:\n",
    "                wrd=pair[0]\n",
    "                tag=pair[1]\n",
    "                cpt=pair_counts[pair]\n",
    "                k = 0 # for <unk>\n",
    "                if wrd in self.X_index: \n",
    "                    k=self.X_index[wrd]\n",
    "                i=self.Y_index[tag]\n",
    "                self.observation_proba[k,i]=cpt\n",
    "            # normalize\n",
    "            self.observation_proba=self.observation_proba+self.smoothing_obs\n",
    "            self.observation_proba=self.observation_proba/self.observation_proba.sum(axis=0).reshape(1,self.N)\n",
    "            \n",
    "        \n",
    "        def transition_estimation(self, trans_counts):\n",
    "            \"\"\" Build the transition distribution: \n",
    "                transition_proba is the transition matrix with : \n",
    "                [a_ij] a[i,j] = Pr(Y_(t+1)=q_i|Y_t=q_j,Y_(t-1)=q_k)\n",
    "            \"\"\"\n",
    "            # fill with counts\n",
    "            for triple in trans_counts:\n",
    "                i=self.Y_index[triple[2]]\n",
    "                j=self.Y_index[triple[1]]\n",
    "                k=self.Y_index[triple[0]]\n",
    "                self.transition_proba[k,j,i]=trans_counts[triple]\n",
    "            # normalize sorun cıkacak !!!\n",
    "            self.transition_proba=self.transition_proba/self.transition_proba.sum(axis=0).reshape(self.N,self.N)\n",
    "            \n",
    "                \n",
    "        def transition_estimation1(self, trans_counts):\n",
    "            \"\"\" Build the transition distribution: \n",
    "                transition_proba is the transition matrix with : \n",
    "                [a_ij] a[i,j] = Pr(Y_(t+1)=q_i|Y_t=q_j)\n",
    "            \"\"\"\n",
    "            # fill with counts\n",
    "            for pair in trans_counts:\n",
    "                i=self.Y_index[pair[1]]\n",
    "                j=self.Y_index[pair[0]]\n",
    "                self.transition_proba1[j,i]=trans_counts[pair]\n",
    "            # normalize\n",
    "            self.transition_proba1=self.transition_proba1/self.transition_proba1.sum(axis=0).reshape(1,self.N)\n",
    "        \n",
    "        \n",
    "        def init_estimation(self, init_counts):\n",
    "            \"\"\"Build the init. distribution\"\"\"\n",
    "            # fill with counts\n",
    "            for tag in init_counts:\n",
    "                i=self.Y_index[tag]\n",
    "                self.initial_state_proba[i]=init_counts[tag]\n",
    "            # normalize\n",
    "            self.initial_state_proba=self.initial_state_proba/sum(self.initial_state_proba)\n",
    "             \n",
    "        \n",
    "        def supervised_training(self, pair_counts, trans_counts,init_counts,trans_counts1):\n",
    "            \"\"\" Train the HMM's parameters. This function wraps everything\"\"\"\n",
    "            self.observation_estimation(pair_counts)\n",
    "            self.transition_estimation(trans_counts)\n",
    "            self.transition_estimation1(trans_counts1)\n",
    "            self.init_estimation(init_counts)\n",
    "        \n",
    "        def viterbi(self,observations):\n",
    "            if len(observations)<2:\n",
    "                return [hmm.Y_index[z] for z in observations]\n",
    "            nSamples = len(observations)\n",
    "            nStates = self.transition_proba.shape[0] # number of states\n",
    "            c = np.zeros(nSamples) #scale factors (necessary to prevent underflow)\n",
    "            viterbi = np.zeros((nStates,nStates,nSamples)) # initialise viterbi table\n",
    "            viterbi1 = np.zeros((nStates,nSamples)) # initialise viterbi table\n",
    "            psi = np.zeros((nStates,nStates,nSamples)) # initialise the best path table\n",
    "            best_path = np.zeros(nSamples); # this will be your output\n",
    "            \n",
    "            idx0 = self.X_index[observations[0]]\n",
    "            idx1 = self.X_index[observations[1]]\n",
    "\n",
    "            viterbi1[:,0] = self.initial_state_proba.T * self.observation_proba[idx0,:].T\n",
    "\n",
    "            for s in range (0,nStates): # loop through the states @(t-2)\n",
    "                for v in range (0,nStates): # loop through the states @(t-1)\n",
    "                    viterbi[s,v,1] = viterbi1[s,0] * self.transition_proba1[s,v] * self.observation_proba[idx1,v]\n",
    "\n",
    "            \n",
    "       \n",
    "            psi[0] = 0;\n",
    "\n",
    "            for t in range(2,nSamples): # loop through time\n",
    "                idx = self.X_index[observations[t]]\n",
    "                for s in range (0,nStates): # loop through the states @(t-1)\n",
    "                    for v in range (0,nStates): # loop through the states @(t-1)\n",
    "                        self.transition_proba[np.isnan(self.transition_proba)] = self.prob_abs\n",
    "                        trans_p = viterbi[:,s,t-1] * self.transition_proba[:,s,v]\n",
    "                \n",
    "                        if(math.isnan(trans_p[0])):\n",
    "                            trans_p[0]=0\n",
    "\n",
    "                        psi[s,v,t], viterbi[s,v,t] = max(enumerate(trans_p), key=operator.itemgetter(1))\n",
    "                        viterbi[s,v,t] = viterbi[s,v,t]*self.observation_proba[idx,v]\n",
    "\n",
    "\n",
    "            cabbar = viterbi[:,:,nSamples-1]\n",
    "            best_path[nSamples-1] = unravel_index(cabbar.argmax(), cabbar.shape)[1]\n",
    "            best_path[nSamples-2] = unravel_index(cabbar.argmax(), cabbar.shape)[0]\n",
    "\n",
    "            \n",
    "            for t in range(nSamples-3,-1,-1): # states of (last-1)th to 0th time step\n",
    "                best_path[t] = psi[best_path[t+1],best_path[t+2],t+2]\n",
    "\n",
    "            return best_path"
   ]
  },
  {
   "cell_type": "markdown",
   "metadata": {},
   "source": [
    "# Compter les mots et les tags"
   ]
  },
  {
   "cell_type": "code",
   "execution_count": 2,
   "metadata": {
    "collapsed": true
   },
   "outputs": [],
   "source": [
    "def make_counts(corpus):\n",
    "    \"\"\" \n",
    "    Build different count tables to train a HMM. Each count table is a dictionnary. \n",
    "    Returns: \n",
    "    * c_words: word counts\n",
    "    * c_tags: tag counts\n",
    "    * c_pairs: count of pairs (word,tag)\n",
    "    * c_transitions: count of tag bigram \n",
    "    * c_inits: count of tag found in the first position\n",
    "    \"\"\"\n",
    "    c_words = dict()\n",
    "    c_tags = dict()\n",
    "    c_pairs= dict()\n",
    "    c_transitions = dict()\n",
    "    c_inits = dict()\n",
    "    c_transitions1 = dict()\n",
    "    for sent in corpus:\n",
    "        # we use i because of the transition counts\n",
    "        for i in range(len(sent)):\n",
    "            couple=sent[i]\n",
    "            wrd = couple[0]\n",
    "            tag = couple[1]\n",
    "            # word counts\n",
    "            if wrd in c_words:\n",
    "                c_words[wrd]=c_words[wrd]+1\n",
    "            else:\n",
    "                c_words[wrd]=1\n",
    "            # tag counts\n",
    "            if tag in c_tags:\n",
    "                c_tags[tag]=c_tags[tag]+1\n",
    "            else:\n",
    "                c_tags[tag]=1\n",
    "            # observation counts\n",
    "            if couple in c_pairs:\n",
    "                c_pairs[couple]=c_pairs[couple]+1\n",
    "            else:\n",
    "                c_pairs[couple]=1\n",
    "            # i >  0 -> transition counts\n",
    "            # j never is seen at second position\n",
    "            if i >= 1:\n",
    "                trans1 = (sent[i-1][1],tag)\n",
    "                if trans1 in c_transitions1:\n",
    "                    c_transitions1[trans1]=c_transitions1[trans1]+1\n",
    "                else:\n",
    "                    c_transitions1[trans1]=1\n",
    "                \n",
    "            if i > 1:\n",
    "                trans = (sent[i-2][1],sent[i-1][1],tag)\n",
    "                if trans in c_transitions:\n",
    "                    c_transitions[trans]=c_transitions[trans]+1\n",
    "                else:\n",
    "                    c_transitions[trans]=1\n",
    "            # i == 0 -> counts for initial states\n",
    "            else:\n",
    "                if tag in c_inits:\n",
    "                    c_inits[tag]=c_inits[tag]+1\n",
    "                else:\n",
    "                    c_inits[tag]=1\n",
    "                    \n",
    "    return c_words,c_tags,c_pairs, c_transitions, c_inits, c_transitions1\n"
   ]
  },
  {
   "cell_type": "markdown",
   "metadata": {},
   "source": [
    "# Création du vocabulaire (filtrage selon le nombre d'occurence)"
   ]
  },
  {
   "cell_type": "code",
   "execution_count": 3,
   "metadata": {
    "collapsed": false
   },
   "outputs": [],
   "source": [
    "def make_vocab(c_words, threshold):\n",
    "    \"\"\" \n",
    "    return a vocabulary by thresholding word counts. \n",
    "    inputs: \n",
    "    * c_words : a dictionnary that maps word to its counts\n",
    "    * threshold: count must be >= to the threshold to be included\n",
    "    \n",
    "    returns: \n",
    "    * a word list\n",
    "    \"\"\"\n",
    "    voc = list()\n",
    "    voc.append(UNK)\n",
    "    for w in c_words:\n",
    "        if c_words[w] >= threshold:\n",
    "            voc.append(w)\n",
    "    return voc\n"
   ]
  },
  {
   "cell_type": "markdown",
   "metadata": {},
   "source": [
    "# les données\n"
   ]
  },
  {
   "cell_type": "code",
   "execution_count": 4,
   "metadata": {
    "collapsed": false
   },
   "outputs": [],
   "source": [
    "import pickle\n",
    "\n",
    "with open('typos-data/train10.pkl', 'rb') as f:\n",
    "    train10 = pickle.load(f)\n",
    "with open('typos-data/test10.pkl', 'rb') as f:\n",
    "    test10 = pickle.load(f)\n",
    "with open('typos-data/train20.pkl', 'rb') as f:\n",
    "    train20 = pickle.load(f)\n",
    "with open('typos-data/test20.pkl', 'rb') as f:\n",
    "    test20 = pickle.load(f)"
   ]
  },
  {
   "cell_type": "code",
   "execution_count": 5,
   "metadata": {
    "collapsed": false
   },
   "outputs": [
    {
     "name": "stdout",
     "output_type": "stream",
     "text": [
      "Nombre de lettres de train10 = 29057\n",
      "Nombre de lettres de test10  = 1501\n",
      "Nombre de lettres de train20 = 27184\n",
      "Nombre de lettres de test20  = 3374\n"
     ]
    }
   ],
   "source": [
    "print \"Nombre de lettres de train10 = \"+str(len(train10))\n",
    "print \"Nombre de lettres de test10  = \"+str(len(test10))\n",
    "print \"Nombre de lettres de train20 = \"+str(len(train20))\n",
    "print \"Nombre de lettres de test20  = \"+str(len(test20))\n"
   ]
  },
  {
   "cell_type": "code",
   "execution_count": 6,
   "metadata": {
    "collapsed": false
   },
   "outputs": [
    {
     "name": "stdout",
     "output_type": "stream",
     "text": [
      "Nombre de lettre  : 26\n",
      "Nombre de tags  : 26\n",
      "Nombre de paires: 127\n",
      "Nombre de trans : 2489 / 144\n",
      "Nombre de init. : 26\n",
      "Vocabulaire :27\n"
     ]
    }
   ],
   "source": [
    "cwords,ctags,cpairs,ctrans,cinits,ctrans1 = make_counts(train10)\n",
    "print \"Nombre de lettre  : \"+str(len(cwords))\n",
    "print \"Nombre de tags  : \"+str(len(ctags))\n",
    "print \"Nombre de paires: \"+str(len(cpairs))\n",
    "print \"Nombre de trans : \"+str(len(ctrans))+ \" / \"+ str(12*12)\n",
    "print \"Nombre de init. : \"+str(len(cinits))\n",
    "\n",
    "vocab = make_vocab(cwords,10)\n",
    "print \"Vocabulaire :\"+str(len(vocab))"
   ]
  },
  {
   "cell_type": "markdown",
   "metadata": {},
   "source": [
    "# Apprentissage en une fois"
   ]
  },
  {
   "cell_type": "code",
   "execution_count": 9,
   "metadata": {
    "collapsed": false
   },
   "outputs": [
    {
     "name": "stdout",
     "output_type": "stream",
     "text": [
      "HMM creating with: \n",
      "26 states\n",
      "27 observations\n"
     ]
    },
    {
     "name": "stderr",
     "output_type": "stream",
     "text": [
      "/Users/macbook975/anaconda/lib/python2.7/site-packages/ipykernel/__main__.py:135: RuntimeWarning: invalid value encountered in divide\n"
     ]
    }
   ],
   "source": [
    "hmm = HMM(state_list=ctags.keys(), observation_list=vocab,\n",
    "                 transition_proba = None,\n",
    "                 observation_proba = None,\n",
    "                 initial_state_proba = None,\n",
    "                 smoothing_obs = 0.4,\n",
    "                 prob_abs= 0)\n",
    "hmm.supervised_training(cpairs,ctrans,cinits,ctrans1)"
   ]
  },
  {
   "cell_type": "code",
   "execution_count": 10,
   "metadata": {
    "collapsed": false
   },
   "outputs": [
    {
     "name": "stderr",
     "output_type": "stream",
     "text": [
      "/Users/macbook975/anaconda/lib/python2.7/site-packages/ipykernel/__main__.py:213: VisibleDeprecationWarning: using a non-integer number instead of an integer will result in an error in the future\n"
     ]
    },
    {
     "name": "stdout",
     "output_type": "stream",
     "text": [
      "6964\n",
      "7320\n"
     ]
    },
    {
     "data": {
      "text/plain": [
       "0.9513661202185792"
      ]
     },
     "execution_count": 10,
     "metadata": {},
     "output_type": "execute_result"
    }
   ],
   "source": [
    "err = 0\n",
    "tot = 0\n",
    "for i in range(len(test10)):\n",
    "    b = [z[0] for z in test10[i]]\n",
    "    out = hmm.viterbi(b)\n",
    "    bb = [z[1] for z in test10[i]]\n",
    "    cc = [hmm.Y_index[z] for z in bb]\n",
    "    #print(out,cc,b)\n",
    "    err += len([x for x in out if x in cc])\n",
    "    tot += len(out)\n",
    "print(err)\n",
    "print(tot)\n",
    "float(err)/tot"
   ]
  },
  {
   "cell_type": "code",
   "execution_count": null,
   "metadata": {
    "collapsed": true
   },
   "outputs": [],
   "source": []
  }
 ],
 "metadata": {
  "anaconda-cloud": {},
  "kernelspec": {
   "display_name": "Python [Root]",
   "language": "python",
   "name": "Python [Root]"
  },
  "language_info": {
   "codemirror_mode": {
    "name": "ipython",
    "version": 2
   },
   "file_extension": ".py",
   "mimetype": "text/x-python",
   "name": "python",
   "nbconvert_exporter": "python",
   "pygments_lexer": "ipython2",
   "version": "2.7.12"
  }
 },
 "nbformat": 4,
 "nbformat_minor": 0
}
